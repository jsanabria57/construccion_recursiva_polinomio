{
  "nbformat": 4,
  "nbformat_minor": 0,
  "metadata": {
    "colab": {
      "name": "parcial.ipynb",
      "provenance": [],
      "collapsed_sections": [],
      "authorship_tag": "ABX9TyOKzs2C0P0VXoUi77PODuda",
      "include_colab_link": true
    },
    "kernelspec": {
      "name": "python3",
      "display_name": "Python 3"
    },
    "language_info": {
      "name": "python"
    }
  },
  "cells": [
    {
      "cell_type": "markdown",
      "metadata": {
        "id": "view-in-github",
        "colab_type": "text"
      },
      "source": [
        "<a href=\"https://colab.research.google.com/github/jsanabria57/construccion_recursiva_polinomio/blob/main/parcial.ipynb\" target=\"_parent\"><img src=\"https://colab.research.google.com/assets/colab-badge.svg\" alt=\"Open In Colab\"/></a>"
      ]
    },
    {
      "cell_type": "code",
      "metadata": {
        "id": "XJkfXVoj8XbP"
      },
      "source": [
        "#uso de sympy\n",
        "import sympy as sp\n",
        "import numpy as np\n",
        "import matplotlib.pyplot as plt\n",
        "\n",
        "x = sp.symbols('x')"
      ],
      "execution_count": null,
      "outputs": []
    },
    {
      "cell_type": "markdown",
      "metadata": {
        "id": "KGQQ7yF_-DeT"
      },
      "source": [
        "$Polinomios$\n",
        "\n",
        "$$ p_1(x) =x-2 $$\n",
        "$$ p_2(x) =x^2 + x$$\n",
        "$$ p_n(x) = p_{n-1}(x/2) - 3*p_{n-2}(x/4)$$"
      ]
    },
    {
      "cell_type": "code",
      "metadata": {
        "id": "3b3E5XutCKrA"
      },
      "source": [
        "def alg_pol(n):\n",
        "  pol = [1,2,x]\n",
        "  pol[1] = x-2\n",
        "  pol[2] = x**2+x\n",
        "  for i in range(1, n+1):\n",
        "    pn = pol[i-1]*(x/2) - x*pol[i-2]*(x/4)\n",
        "    pol.append(pn.expand())\n",
        "\n",
        "  return pol"
      ],
      "execution_count": 20,
      "outputs": []
    },
    {
      "cell_type": "code",
      "metadata": {
        "colab": {
          "base_uri": "https://localhost:8080/",
          "height": 54
        },
        "id": "by2s-VmeJ4QX",
        "outputId": "a8a868d7-5776-4097-ddf0-0995e20d3a59"
      },
      "source": [
        "gen_pol = alg_pol(50)\n",
        "gen_pol[50]"
      ],
      "execution_count": 21,
      "outputs": [
        {
          "output_type": "execute_result",
          "data": {
            "text/latex": "$\\displaystyle \\frac{3 x^{27}}{8388608} + \\frac{7 x^{26}}{16777216} - \\frac{2573 x^{25}}{16777216} - \\frac{1235 x^{24}}{4194304} + \\frac{3003 x^{23}}{4194304} + \\frac{12155 x^{22}}{4194304} + \\frac{6225 x^{21}}{1048576} - \\frac{2303 x^{20}}{1048576} - \\frac{455 x^{19}}{65536} + \\frac{23 x^{18}}{65536} + \\frac{17 x^{17}}{65536}$",
            "text/plain": [
              "3*x**27/8388608 + 7*x**26/16777216 - 2573*x**25/16777216 - 1235*x**24/4194304 + 3003*x**23/4194304 + 12155*x**22/4194304 + 6225*x**21/1048576 - 2303*x**20/1048576 - 455*x**19/65536 + 23*x**18/65536 + 17*x**17/65536"
            ]
          },
          "metadata": {},
          "execution_count": 21
        }
      ]
    },
    {
      "cell_type": "code",
      "metadata": {
        "colab": {
          "base_uri": "https://localhost:8080/",
          "height": 276
        },
        "id": "UCm0B8l0J_yA",
        "outputId": "a1bf99f1-fbb6-4a79-abdf-3df00478cacc"
      },
      "source": [
        "\n",
        "xs = np.linspace(0, 100, num=1000)\n",
        "for i in range(1,5):\n",
        "  lambda_tn = sp.lambdify(x, gen_pol[i], 'numpy')\n",
        "  ys = lambda_tn(xs)\n",
        "  \n",
        "  plt.plot(xs, ys)"
      ],
      "execution_count": 22,
      "outputs": [
        {
          "output_type": "display_data",
          "data": {
            "image/png": "[encoded data removed]",
            "text/plain": [
              "<Figure size 432x288 with 1 Axes>"
            ]
          },
          "metadata": {
            "needs_background": "light"
          }
        }
      ]
    }
  ]
}